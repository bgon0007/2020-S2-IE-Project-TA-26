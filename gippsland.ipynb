{
 "cells": [
  {
   "cell_type": "markdown",
   "metadata": {},
   "source": [
    "### Importing libraries "
   ]
  },
  {
   "cell_type": "code",
   "execution_count": 1,
   "metadata": {},
   "outputs": [],
   "source": [
    "import requests\n",
    "import pandas as pd\n",
    "import shapefile\n",
    "from shapely.geometry import Point # Point class\n",
    "from shapely.geometry import shape # shape() is a function to convert geo objects through the interface\n",
    "import matplotlib.pyplot as plt"
   ]
  },
  {
   "cell_type": "markdown",
   "metadata": {},
   "source": [
    "## Weather Data"
   ]
  },
  {
   "cell_type": "markdown",
   "metadata": {},
   "source": [
    "Here, we are taking climate data from an open weather API for different places in Gippsland and storing it in a dataframe.The following steps are used to obtain the final dataframe."
   ]
  },
  {
   "cell_type": "markdown",
   "metadata": {},
   "source": [
    "#### Make a list of suburbs in Gippsland"
   ]
  },
  {
   "cell_type": "code",
   "execution_count": 2,
   "metadata": {},
   "outputs": [],
   "source": [
    "list_suburbs = ['Aberfeldy','Agnes','Allambee','Almurta','Anderson', 'Arawata', 'Archies Creek', 'Athlone', 'Bass', 'Baw Baw', 'Bena', 'Berrys Creek', 'Bona Vista', 'Boolarra', 'Boolarra South', 'Brandy Creek', 'Budgeree', 'Buffalo', 'Buln Buln', 'Callignee', 'Cape Woolamai', 'Childers', 'Churchill', \n",
    "'Cloverlea', 'Coalville', 'Corinella', 'Coronet Bay', 'Cowes', 'Crossover', 'Dalyston','Darnum', 'Delburn', 'Dollar', 'Driffield', 'Drouin', 'Drouin West', 'Dudley', 'Dumbalk', 'Ellinbank', 'Erica', 'Ferndale', 'Fish Creek', 'Flynn', 'Foster', 'French Island', 'Fumina', 'Glen Forbes',\n",
    "'Glengarry', 'Grantville', 'Hallora', 'Hallston', 'Hazel Park', 'Hazelwood', 'Hedley', 'Hill End', 'Icy Creek', 'Inverloch', 'Jam Jerrup', 'Jeeralang', 'Jeeralang Junction', 'Jeetho', 'Jindivick', 'Jumbuk', 'Jumbunna', 'Kardella', 'Kernot', 'Kilcunda', 'Kongwak', 'Koonwarra', 'Koornalla', 'Korumburra', \n",
    "'Krowera', 'Labertouche', 'Lardner', 'Leongatha', 'Lillico', 'Loch', 'Longwarry', 'Mardan', 'McMahons Creek', 'Meeniyan', 'Mirboo', 'Mirboo North', 'Modella', 'Moe', 'Morwell', 'Narracan', 'Nayook', 'Neerim', 'Neerim South', 'Newborough', 'Newhaven', 'Nilma', 'Nilma North', 'Noojee', 'North Wonthaggi',\n",
    "'Nyora', 'Outtrim', 'Phillip Island', 'Piedmont', 'Pioneer Bay', 'Poowong', 'Port Franklin', 'Port Welshpool', 'Ranceby', 'Rawson', 'Rhyll','Rokeby', 'Ruby', 'San Remo', 'Sandy Point', 'Shady Creek', 'Silverleaves', 'South Dudley', 'Stony Creek', 'Strzelecki', 'Sunderland Bay', 'Sunset Strip', 'Surf Beach', \n",
    "'Tanjil Bren', 'Tanjil South', 'Tarwin', 'Tarwin Lower', 'Tenby Point', 'The Gurdies', 'Thorpdale', 'Toongabbie', 'Toora', 'Torwood', 'Trafalgar', 'Trafalgar East', 'Trafalgar South', 'Traralgon', 'Traralgon South', 'Trida', 'Turtons Creek', 'Tyers', 'Ventnor', 'Venus Bay', 'Vesper', 'Walhalla', 'Walkerville',\n",
    "'Waratah Bay', 'Warragul','Wattle Bank', 'Welshpool', 'West Creek', 'Westbury', 'Willow Grove', 'Wimbledon Heights', 'Wonga', 'Wonthaggi', 'Woodleigh',  'Woolamai','Yallourn', 'Yallourn North', 'Yanakie', 'Yarragon', 'Yinnar', 'Yinnar South']\n"
   ]
  },
  {
   "cell_type": "code",
   "execution_count": 3,
   "metadata": {},
   "outputs": [
    {
     "data": {
      "text/plain": [
       "160"
      ]
     },
     "execution_count": 3,
     "metadata": {},
     "output_type": "execute_result"
    }
   ],
   "source": [
    "len(list_suburbs) #length "
   ]
  },
  {
   "cell_type": "markdown",
   "metadata": {},
   "source": [
    "#### Read the csv file which contains suburbs and post code"
   ]
  },
  {
   "cell_type": "code",
   "execution_count": 4,
   "metadata": {},
   "outputs": [],
   "source": [
    "#Suburbs.csv is a file which contains the Locality Name , Post code and Muncipality Name in Australia\n",
    "sub = pd.read_csv('suburbs.csv')"
   ]
  },
  {
   "cell_type": "code",
   "execution_count": 5,
   "metadata": {},
   "outputs": [
    {
     "data": {
      "text/html": [
       "<div>\n",
       "<style scoped>\n",
       "    .dataframe tbody tr th:only-of-type {\n",
       "        vertical-align: middle;\n",
       "    }\n",
       "\n",
       "    .dataframe tbody tr th {\n",
       "        vertical-align: top;\n",
       "    }\n",
       "\n",
       "    .dataframe thead th {\n",
       "        text-align: right;\n",
       "    }\n",
       "</style>\n",
       "<table border=\"1\" class=\"dataframe\">\n",
       "  <thead>\n",
       "    <tr style=\"text-align: right;\">\n",
       "      <th></th>\n",
       "      <th>Locality Name</th>\n",
       "      <th>Post Code</th>\n",
       "      <th>Municipality Name</th>\n",
       "    </tr>\n",
       "  </thead>\n",
       "  <tbody>\n",
       "    <tr>\n",
       "      <th>0</th>\n",
       "      <td>Abbeyard</td>\n",
       "      <td>3737</td>\n",
       "      <td>Alpine Shire Council</td>\n",
       "    </tr>\n",
       "    <tr>\n",
       "      <th>1</th>\n",
       "      <td>Abbotsford</td>\n",
       "      <td>3067</td>\n",
       "      <td>Yarra City Council</td>\n",
       "    </tr>\n",
       "    <tr>\n",
       "      <th>2</th>\n",
       "      <td>Aberfeldie</td>\n",
       "      <td>3040</td>\n",
       "      <td>Moonee Valley City Council</td>\n",
       "    </tr>\n",
       "    <tr>\n",
       "      <th>3</th>\n",
       "      <td>Aberfeldy</td>\n",
       "      <td>3825</td>\n",
       "      <td>Baw Baw Shire Council</td>\n",
       "    </tr>\n",
       "    <tr>\n",
       "      <th>4</th>\n",
       "      <td>Acheron</td>\n",
       "      <td>3714</td>\n",
       "      <td>Murrindindi Shire Council</td>\n",
       "    </tr>\n",
       "  </tbody>\n",
       "</table>\n",
       "</div>"
      ],
      "text/plain": [
       "  Locality Name  Post Code           Municipality Name\n",
       "0      Abbeyard       3737        Alpine Shire Council\n",
       "1    Abbotsford       3067          Yarra City Council\n",
       "2    Aberfeldie       3040  Moonee Valley City Council\n",
       "3     Aberfeldy       3825       Baw Baw Shire Council\n",
       "4       Acheron       3714   Murrindindi Shire Council"
      ]
     },
     "execution_count": 5,
     "metadata": {},
     "output_type": "execute_result"
    }
   ],
   "source": [
    "sub.head()"
   ]
  },
  {
   "cell_type": "code",
   "execution_count": 6,
   "metadata": {},
   "outputs": [
    {
     "data": {
      "text/html": [
       "<div>\n",
       "<style scoped>\n",
       "    .dataframe tbody tr th:only-of-type {\n",
       "        vertical-align: middle;\n",
       "    }\n",
       "\n",
       "    .dataframe tbody tr th {\n",
       "        vertical-align: top;\n",
       "    }\n",
       "\n",
       "    .dataframe thead th {\n",
       "        text-align: right;\n",
       "    }\n",
       "</style>\n",
       "<table border=\"1\" class=\"dataframe\">\n",
       "  <thead>\n",
       "    <tr style=\"text-align: right;\">\n",
       "      <th></th>\n",
       "      <th>Locality Name</th>\n",
       "      <th>Post Code</th>\n",
       "      <th>Municipality Name</th>\n",
       "    </tr>\n",
       "  </thead>\n",
       "  <tbody>\n",
       "    <tr>\n",
       "      <th>3221</th>\n",
       "      <td>Yulecart</td>\n",
       "      <td>3301</td>\n",
       "      <td>Southern Grampians Shire Council</td>\n",
       "    </tr>\n",
       "    <tr>\n",
       "      <th>3222</th>\n",
       "      <td>Yundool</td>\n",
       "      <td>3727</td>\n",
       "      <td>Moira Shire Council</td>\n",
       "    </tr>\n",
       "    <tr>\n",
       "      <th>3223</th>\n",
       "      <td>Yuroke</td>\n",
       "      <td>3063</td>\n",
       "      <td>Hume City Council</td>\n",
       "    </tr>\n",
       "    <tr>\n",
       "      <th>3224</th>\n",
       "      <td>Yuulong</td>\n",
       "      <td>3237</td>\n",
       "      <td>Colac Otway Shire Council</td>\n",
       "    </tr>\n",
       "    <tr>\n",
       "      <th>3225</th>\n",
       "      <td>Zeerust</td>\n",
       "      <td>3634</td>\n",
       "      <td>Greater Shepparton City Council</td>\n",
       "    </tr>\n",
       "  </tbody>\n",
       "</table>\n",
       "</div>"
      ],
      "text/plain": [
       "     Locality Name  Post Code                 Municipality Name\n",
       "3221      Yulecart       3301  Southern Grampians Shire Council\n",
       "3222       Yundool       3727               Moira Shire Council\n",
       "3223        Yuroke       3063                 Hume City Council\n",
       "3224       Yuulong       3237         Colac Otway Shire Council\n",
       "3225       Zeerust       3634   Greater Shepparton City Council"
      ]
     },
     "execution_count": 6,
     "metadata": {},
     "output_type": "execute_result"
    }
   ],
   "source": [
    "sub.tail()"
   ]
  },
  {
   "cell_type": "code",
   "execution_count": 7,
   "metadata": {},
   "outputs": [
    {
     "data": {
      "text/plain": [
       "3226"
      ]
     },
     "execution_count": 7,
     "metadata": {},
     "output_type": "execute_result"
    }
   ],
   "source": [
    "len(sub)"
   ]
  },
  {
   "cell_type": "code",
   "execution_count": 8,
   "metadata": {},
   "outputs": [],
   "source": [
    "#Droping all locality name that is not there in the list of suburbs\n",
    "sub.drop(index=sub[~sub['Locality Name'].isin(list_suburbs) ].index, inplace=True)\n",
    "sub.reset_index(inplace=True, drop=True)"
   ]
  },
  {
   "cell_type": "code",
   "execution_count": 9,
   "metadata": {},
   "outputs": [
    {
     "data": {
      "text/html": [
       "<div>\n",
       "<style scoped>\n",
       "    .dataframe tbody tr th:only-of-type {\n",
       "        vertical-align: middle;\n",
       "    }\n",
       "\n",
       "    .dataframe tbody tr th {\n",
       "        vertical-align: top;\n",
       "    }\n",
       "\n",
       "    .dataframe thead th {\n",
       "        text-align: right;\n",
       "    }\n",
       "</style>\n",
       "<table border=\"1\" class=\"dataframe\">\n",
       "  <thead>\n",
       "    <tr style=\"text-align: right;\">\n",
       "      <th></th>\n",
       "      <th>Locality Name</th>\n",
       "      <th>Post Code</th>\n",
       "      <th>Municipality Name</th>\n",
       "    </tr>\n",
       "  </thead>\n",
       "  <tbody>\n",
       "  </tbody>\n",
       "</table>\n",
       "</div>"
      ],
      "text/plain": [
       "Empty DataFrame\n",
       "Columns: [Locality Name, Post Code, Municipality Name]\n",
       "Index: []"
      ]
     },
     "execution_count": 9,
     "metadata": {},
     "output_type": "execute_result"
    }
   ],
   "source": [
    "#checking for duplicates\n",
    "sub[sub.duplicated()]"
   ]
  },
  {
   "cell_type": "code",
   "execution_count": 10,
   "metadata": {},
   "outputs": [],
   "source": [
    "# sub.to_csv('temp.csv')"
   ]
  },
  {
   "cell_type": "markdown",
   "metadata": {},
   "source": [
    "#### Getting required data from Open Weather API"
   ]
  },
  {
   "cell_type": "code",
   "execution_count": 11,
   "metadata": {},
   "outputs": [],
   "source": [
    "#Creating empty lists for all the datas that are required\n",
    "suburbs = []\n",
    "lat = []\n",
    "lon = []\n",
    "temp = []\n",
    "wind_speed = []\n",
    "description = []\n",
    "post_code = []\n",
    "#loop for iterating through each post code in Gippsland\n",
    "for i in range(len(sub)):\n",
    "    url = \"http://api.openweathermap.org/data/2.5/weather?zip={}&appid=79ab7afe9488e5e8236e3054f20c6947\".format(str(sub['Post Code'][i])+\",au\")\n",
    "#     print(url)\n",
    "    res = requests.get(url)\n",
    "    data = res.json()\n",
    "    suburbs.append(str(sub['Locality Name'][i]))  \n",
    "#     print(data)\n",
    "    postcode = str(sub['Post Code'][i])         \n",
    "    latitude = data['coord']['lat']            \n",
    "    longitude = data['coord']['lon']              \n",
    "    temperature = data['main']['temp']           \n",
    "    wind = data['wind']['speed']\n",
    "    #append obtained values into the given list\n",
    "    post_code.append(postcode)\n",
    "    lat.append(latitude)\n",
    "    lon.append(longitude)\n",
    "    temp.append(temperature)\n",
    "    wind_speed.append(wind)\n",
    "        \n",
    "    weather_access = data['weather']\n",
    "    for weather_data in weather_access:\n",
    "        desc = weather_data['description']\n",
    "        description.append(desc)\n",
    "#         print(description)\n"
   ]
  },
  {
   "cell_type": "code",
   "execution_count": 12,
   "metadata": {},
   "outputs": [],
   "source": [
    "#suburbs"
   ]
  },
  {
   "cell_type": "code",
   "execution_count": 13,
   "metadata": {},
   "outputs": [],
   "source": [
    "#post_code"
   ]
  },
  {
   "cell_type": "code",
   "execution_count": 14,
   "metadata": {},
   "outputs": [],
   "source": [
    "#lat\n",
    "#lon"
   ]
  },
  {
   "cell_type": "code",
   "execution_count": 15,
   "metadata": {},
   "outputs": [],
   "source": [
    "#temp"
   ]
  },
  {
   "cell_type": "markdown",
   "metadata": {},
   "source": [
    "#### Creating dataframe"
   ]
  },
  {
   "cell_type": "code",
   "execution_count": 16,
   "metadata": {},
   "outputs": [],
   "source": [
    "gipps_data_frame = pd.DataFrame(data=zip(suburbs, post_code, lat, lon, temp, description, wind_speed),columns=['Suburbs','Post Code', 'Latitude','Longitude', 'Temperature', 'Description', 'Wind'  ])"
   ]
  },
  {
   "cell_type": "code",
   "execution_count": 17,
   "metadata": {},
   "outputs": [
    {
     "data": {
      "text/html": [
       "<div>\n",
       "<style scoped>\n",
       "    .dataframe tbody tr th:only-of-type {\n",
       "        vertical-align: middle;\n",
       "    }\n",
       "\n",
       "    .dataframe tbody tr th {\n",
       "        vertical-align: top;\n",
       "    }\n",
       "\n",
       "    .dataframe thead th {\n",
       "        text-align: right;\n",
       "    }\n",
       "</style>\n",
       "<table border=\"1\" class=\"dataframe\">\n",
       "  <thead>\n",
       "    <tr style=\"text-align: right;\">\n",
       "      <th></th>\n",
       "      <th>Suburbs</th>\n",
       "      <th>Post Code</th>\n",
       "      <th>Latitude</th>\n",
       "      <th>Longitude</th>\n",
       "      <th>Temperature</th>\n",
       "      <th>Description</th>\n",
       "      <th>Wind</th>\n",
       "    </tr>\n",
       "  </thead>\n",
       "  <tbody>\n",
       "    <tr>\n",
       "      <th>0</th>\n",
       "      <td>Aberfeldy</td>\n",
       "      <td>3825</td>\n",
       "      <td>-37.95</td>\n",
       "      <td>146.40</td>\n",
       "      <td>276.19</td>\n",
       "      <td>clear sky</td>\n",
       "      <td>1.32</td>\n",
       "    </tr>\n",
       "    <tr>\n",
       "      <th>1</th>\n",
       "      <td>Agnes</td>\n",
       "      <td>3962</td>\n",
       "      <td>-38.56</td>\n",
       "      <td>146.39</td>\n",
       "      <td>277.07</td>\n",
       "      <td>broken clouds</td>\n",
       "      <td>1.13</td>\n",
       "    </tr>\n",
       "    <tr>\n",
       "      <th>2</th>\n",
       "      <td>Allambee</td>\n",
       "      <td>3823</td>\n",
       "      <td>-38.21</td>\n",
       "      <td>146.06</td>\n",
       "      <td>277.30</td>\n",
       "      <td>few clouds</td>\n",
       "      <td>0.65</td>\n",
       "    </tr>\n",
       "    <tr>\n",
       "      <th>3</th>\n",
       "      <td>Almurta</td>\n",
       "      <td>3979</td>\n",
       "      <td>-38.52</td>\n",
       "      <td>145.70</td>\n",
       "      <td>277.95</td>\n",
       "      <td>scattered clouds</td>\n",
       "      <td>1.80</td>\n",
       "    </tr>\n",
       "    <tr>\n",
       "      <th>4</th>\n",
       "      <td>Anderson</td>\n",
       "      <td>3995</td>\n",
       "      <td>-38.57</td>\n",
       "      <td>145.70</td>\n",
       "      <td>278.01</td>\n",
       "      <td>scattered clouds</td>\n",
       "      <td>2.09</td>\n",
       "    </tr>\n",
       "  </tbody>\n",
       "</table>\n",
       "</div>"
      ],
      "text/plain": [
       "     Suburbs Post Code  Latitude  Longitude  Temperature       Description  \\\n",
       "0  Aberfeldy      3825    -37.95     146.40       276.19         clear sky   \n",
       "1      Agnes      3962    -38.56     146.39       277.07     broken clouds   \n",
       "2   Allambee      3823    -38.21     146.06       277.30        few clouds   \n",
       "3    Almurta      3979    -38.52     145.70       277.95  scattered clouds   \n",
       "4   Anderson      3995    -38.57     145.70       278.01  scattered clouds   \n",
       "\n",
       "   Wind  \n",
       "0  1.32  \n",
       "1  1.13  \n",
       "2  0.65  \n",
       "3  1.80  \n",
       "4  2.09  "
      ]
     },
     "execution_count": 17,
     "metadata": {},
     "output_type": "execute_result"
    }
   ],
   "source": [
    "gipps_data_frame.head()"
   ]
  },
  {
   "cell_type": "markdown",
   "metadata": {},
   "source": [
    "#### Plotting"
   ]
  },
  {
   "cell_type": "code",
   "execution_count": 18,
   "metadata": {},
   "outputs": [
    {
     "data": {
      "image/png": "[encoded data removed]",
      "text/plain": [
       "<Figure size 432x288 with 1 Axes>"
      ]
     },
     "metadata": {
      "needs_background": "light"
     },
     "output_type": "display_data"
    }
   ],
   "source": [
    "gipps_data_frame.plot()\n",
    "plt.show(block=True)"
   ]
  },
  {
   "cell_type": "code",
   "execution_count": 19,
   "metadata": {},
   "outputs": [
    {
     "data": {
      "text/plain": [
       "<matplotlib.axes._subplots.AxesSubplot at 0x1c894cba370>"
      ]
     },
     "execution_count": 19,
     "metadata": {},
     "output_type": "execute_result"
    },
    {
     "data": {
      "image/png": "[encoded data removed]",
      "text/plain": [
       "<Figure size 432x288 with 1 Axes>"
      ]
     },
     "metadata": {
      "needs_background": "light"
     },
     "output_type": "display_data"
    }
   ],
   "source": [
    "#boxplot for temperature\n",
    "gipps_data_frame.boxplot(column=['Temperature'])"
   ]
  },
  {
   "cell_type": "code",
   "execution_count": 20,
   "metadata": {},
   "outputs": [
    {
     "data": {
      "text/plain": [
       "<matplotlib.axes._subplots.AxesSubplot at 0x1c894d15700>"
      ]
     },
     "execution_count": 20,
     "metadata": {},
     "output_type": "execute_result"
    },
    {
     "data": {
      "image/png": "[encoded data removed]",
      "text/plain": [
       "<Figure size 432x288 with 1 Axes>"
      ]
     },
     "metadata": {
      "needs_background": "light"
     },
     "output_type": "display_data"
    }
   ],
   "source": [
    "#boxplot for wind\n",
    "gipps_data_frame.boxplot(column=['Wind'])"
   ]
  },
  {
   "cell_type": "markdown",
   "metadata": {},
   "source": [
    "## Soil Data"
   ]
  },
  {
   "cell_type": "markdown",
   "metadata": {},
   "source": [
    "For soil, we have shapefile and database file to obtain the soil type of different locations in Gippsland as shown below:"
   ]
  },
  {
   "cell_type": "markdown",
   "metadata": {},
   "source": [
    "#### Reading the required file:"
   ]
  },
  {
   "cell_type": "code",
   "execution_count": 21,
   "metadata": {},
   "outputs": [],
   "source": [
    "#Reading the database file\n",
    "shapefile_path = r'gippsland_land_units.dbf'\n",
    "shape_file = shapefile.Reader(shapefile_path, encoding = 'Shift-JIS')\n",
    "\n",
    "fields = [x[0] for x in shape_file.fields][1:]\n",
    "records = shape_file.records()\n",
    "shps = [s.points for s in shape_file.shapes()]\n",
    "#Creating a dataframe \n",
    "sf_df = pd.DataFrame(columns = fields, data = records)"
   ]
  },
  {
   "cell_type": "markdown",
   "metadata": {},
   "source": [
    "#### Remove all unwanted columns from the table"
   ]
  },
  {
   "cell_type": "code",
   "execution_count": 22,
   "metadata": {},
   "outputs": [],
   "source": [
    "sf_df=sf_df.drop(['SYM_COLOUR', 'ASC_OSO','ASC_O','ASC_SO'], axis = 1)"
   ]
  },
  {
   "cell_type": "code",
   "execution_count": 23,
   "metadata": {},
   "outputs": [
    {
     "data": {
      "text/html": [
       "<div>\n",
       "<style scoped>\n",
       "    .dataframe tbody tr th:only-of-type {\n",
       "        vertical-align: middle;\n",
       "    }\n",
       "\n",
       "    .dataframe tbody tr th {\n",
       "        vertical-align: top;\n",
       "    }\n",
       "\n",
       "    .dataframe thead th {\n",
       "        text-align: right;\n",
       "    }\n",
       "</style>\n",
       "<table border=\"1\" class=\"dataframe\">\n",
       "  <thead>\n",
       "    <tr style=\"text-align: right;\">\n",
       "      <th></th>\n",
       "      <th>SOIL</th>\n",
       "      <th>SOIL_TYPE</th>\n",
       "      <th>GMU3</th>\n",
       "      <th>LANDFORM</th>\n",
       "      <th>GEOLOGY</th>\n",
       "      <th>DOM_SOIL</th>\n",
       "    </tr>\n",
       "  </thead>\n",
       "  <tbody>\n",
       "    <tr>\n",
       "      <th>0</th>\n",
       "      <td>Wg</td>\n",
       "      <td>Warragul</td>\n",
       "      <td>3.5</td>\n",
       "      <td>Rolling Low Hills to Undulating Rises</td>\n",
       "      <td>Tertiary Basalts</td>\n",
       "      <td>Acidic Red Ferrosols</td>\n",
       "    </tr>\n",
       "    <tr>\n",
       "      <th>1</th>\n",
       "      <td>Fl</td>\n",
       "      <td>Flinders</td>\n",
       "      <td>3.2.1</td>\n",
       "      <td>Rolling low hills</td>\n",
       "      <td>Tertiary basalts</td>\n",
       "      <td>Brown Dermosols with some Brown Ferrosols</td>\n",
       "    </tr>\n",
       "    <tr>\n",
       "      <th>2</th>\n",
       "      <td>water</td>\n",
       "      <td>water</td>\n",
       "      <td>water</td>\n",
       "      <td></td>\n",
       "      <td></td>\n",
       "      <td></td>\n",
       "    </tr>\n",
       "    <tr>\n",
       "      <th>3</th>\n",
       "      <td>Wg</td>\n",
       "      <td>Warragul</td>\n",
       "      <td>3.5</td>\n",
       "      <td>Rolling Low Hills to Undulating Rises</td>\n",
       "      <td>Tertiary Basalts</td>\n",
       "      <td>Acidic Red Ferrosols</td>\n",
       "    </tr>\n",
       "    <tr>\n",
       "      <th>4</th>\n",
       "      <td>Nr</td>\n",
       "      <td>Narre</td>\n",
       "      <td>7.1.2</td>\n",
       "      <td>Level Plain</td>\n",
       "      <td>Pleistocene (late) to Recent sediments</td>\n",
       "      <td></td>\n",
       "    </tr>\n",
       "  </tbody>\n",
       "</table>\n",
       "</div>"
      ],
      "text/plain": [
       "    SOIL SOIL_TYPE   GMU3                               LANDFORM  \\\n",
       "0     Wg  Warragul    3.5  Rolling Low Hills to Undulating Rises   \n",
       "1     Fl  Flinders  3.2.1                      Rolling low hills   \n",
       "2  water     water  water                                          \n",
       "3     Wg  Warragul    3.5  Rolling Low Hills to Undulating Rises   \n",
       "4     Nr     Narre  7.1.2                            Level Plain   \n",
       "\n",
       "                                  GEOLOGY  \\\n",
       "0                        Tertiary Basalts   \n",
       "1                        Tertiary basalts   \n",
       "2                                           \n",
       "3                        Tertiary Basalts   \n",
       "4  Pleistocene (late) to Recent sediments   \n",
       "\n",
       "                                    DOM_SOIL  \n",
       "0                       Acidic Red Ferrosols  \n",
       "1  Brown Dermosols with some Brown Ferrosols  \n",
       "2                                             \n",
       "3                       Acidic Red Ferrosols  \n",
       "4                                             "
      ]
     },
     "execution_count": 23,
     "metadata": {},
     "output_type": "execute_result"
    }
   ],
   "source": [
    "sf_df.head()"
   ]
  },
  {
   "cell_type": "code",
   "execution_count": 24,
   "metadata": {},
   "outputs": [
    {
     "data": {
      "text/html": [
       "<div>\n",
       "<style scoped>\n",
       "    .dataframe tbody tr th:only-of-type {\n",
       "        vertical-align: middle;\n",
       "    }\n",
       "\n",
       "    .dataframe tbody tr th {\n",
       "        vertical-align: top;\n",
       "    }\n",
       "\n",
       "    .dataframe thead th {\n",
       "        text-align: right;\n",
       "    }\n",
       "</style>\n",
       "<table border=\"1\" class=\"dataframe\">\n",
       "  <thead>\n",
       "    <tr style=\"text-align: right;\">\n",
       "      <th></th>\n",
       "      <th>SOIL</th>\n",
       "      <th>SOIL_TYPE</th>\n",
       "      <th>GMU3</th>\n",
       "      <th>LANDFORM</th>\n",
       "      <th>GEOLOGY</th>\n",
       "      <th>DOM_SOIL</th>\n",
       "    </tr>\n",
       "  </thead>\n",
       "  <tbody>\n",
       "    <tr>\n",
       "      <th>3604</th>\n",
       "      <td>Gy</td>\n",
       "      <td>Gelantipy</td>\n",
       "      <td></td>\n",
       "      <td>Undulating to rolling low hills</td>\n",
       "      <td>Tertiary basalt</td>\n",
       "      <td></td>\n",
       "    </tr>\n",
       "    <tr>\n",
       "      <th>3605</th>\n",
       "      <td>Mg</td>\n",
       "      <td>Murrungowar</td>\n",
       "      <td></td>\n",
       "      <td>Undulating to rolling low hills</td>\n",
       "      <td>Granite</td>\n",
       "      <td></td>\n",
       "    </tr>\n",
       "    <tr>\n",
       "      <th>3606</th>\n",
       "      <td>Mg</td>\n",
       "      <td>Murrungowar</td>\n",
       "      <td></td>\n",
       "      <td>Undulating to rolling low hills</td>\n",
       "      <td>Granite</td>\n",
       "      <td></td>\n",
       "    </tr>\n",
       "    <tr>\n",
       "      <th>3607</th>\n",
       "      <td>Mg</td>\n",
       "      <td>Murrungowar</td>\n",
       "      <td></td>\n",
       "      <td>Undulating to rolling low hills</td>\n",
       "      <td>Granite</td>\n",
       "      <td></td>\n",
       "    </tr>\n",
       "    <tr>\n",
       "      <th>3608</th>\n",
       "      <td>Mg</td>\n",
       "      <td>Murrungowar</td>\n",
       "      <td></td>\n",
       "      <td>Undulating to rolling low hills</td>\n",
       "      <td>Granite</td>\n",
       "      <td></td>\n",
       "    </tr>\n",
       "  </tbody>\n",
       "</table>\n",
       "</div>"
      ],
      "text/plain": [
       "     SOIL    SOIL_TYPE GMU3                         LANDFORM          GEOLOGY  \\\n",
       "3604   Gy    Gelantipy       Undulating to rolling low hills  Tertiary basalt   \n",
       "3605   Mg  Murrungowar       Undulating to rolling low hills          Granite   \n",
       "3606   Mg  Murrungowar       Undulating to rolling low hills          Granite   \n",
       "3607   Mg  Murrungowar       Undulating to rolling low hills          Granite   \n",
       "3608   Mg  Murrungowar       Undulating to rolling low hills          Granite   \n",
       "\n",
       "     DOM_SOIL  \n",
       "3604           \n",
       "3605           \n",
       "3606           \n",
       "3607           \n",
       "3608           "
      ]
     },
     "execution_count": 24,
     "metadata": {},
     "output_type": "execute_result"
    }
   ],
   "source": [
    "sf_df.tail()"
   ]
  },
  {
   "cell_type": "code",
   "execution_count": 25,
   "metadata": {},
   "outputs": [],
   "source": [
    "# shps"
   ]
  },
  {
   "cell_type": "markdown",
   "metadata": {},
   "source": [
    "### Connecting dataframes:"
   ]
  },
  {
   "cell_type": "markdown",
   "metadata": {},
   "source": [
    "Here, we are going to connect soil dataframe and the dataframe that contains weather data based on latitude and longitude of places in Gippsland"
   ]
  },
  {
   "cell_type": "code",
   "execution_count": 26,
   "metadata": {
    "scrolled": true
   },
   "outputs": [
    {
     "name": "stderr",
     "output_type": "stream",
     "text": [
      "<ipython-input-26-7915529f4cfb>:13: SettingWithCopyWarning: \n",
      "A value is trying to be set on a copy of a slice from a DataFrame\n",
      "\n",
      "See the caveats in the documentation: https://pandas.pydata.org/pandas-docs/stable/user_guide/indexing.html#returning-a-view-versus-a-copy\n",
      "  gipps_data_frame['soil_type'][j] = all_records[i][1] # get the soil type field of the corresponding record\n",
      "<ipython-input-26-7915529f4cfb>:14: SettingWithCopyWarning: \n",
      "A value is trying to be set on a copy of a slice from a DataFrame\n",
      "\n",
      "See the caveats in the documentation: https://pandas.pydata.org/pandas-docs/stable/user_guide/indexing.html#returning-a-view-versus-a-copy\n",
      "  gipps_data_frame['landform'][j] = all_records[i][4] # get the landform field of the corresponding record\n",
      "<ipython-input-26-7915529f4cfb>:15: SettingWithCopyWarning: \n",
      "A value is trying to be set on a copy of a slice from a DataFrame\n",
      "\n",
      "See the caveats in the documentation: https://pandas.pydata.org/pandas-docs/stable/user_guide/indexing.html#returning-a-view-versus-a-copy\n",
      "  gipps_data_frame['geology'][j] = all_records[i][5]  # get the geology field of the corresponding record\n"
     ]
    }
   ],
   "source": [
    "gipps_data_frame['soil_type'] = ['' for i in gipps_data_frame['Latitude']]\n",
    "gipps_data_frame['landform'] = ['' for i in gipps_data_frame['Latitude']]\n",
    "gipps_data_frame['geology'] = ['' for i in gipps_data_frame['Latitude']]\n",
    "\n",
    "all_shapes = shape_file.shapes() # get all the polygons\n",
    "all_records = shape_file.records()\n",
    "for j in range(len(gipps_data_frame)):\n",
    "    point = (float(gipps_data_frame['Longitude'][j]), float(gipps_data_frame['Latitude'][j])) \n",
    "#     print(point)\n",
    "    for i in range(len(all_shapes)):\n",
    "        boundary = all_shapes[i] # get a boundary polygon\n",
    "        if Point(point).within(shape(boundary)): # make a point and see if it's in the polygon\n",
    "            gipps_data_frame['soil_type'][j] = all_records[i][1] # get the soil type field of the corresponding record\n",
    "            gipps_data_frame['landform'][j] = all_records[i][4] # get the landform field of the corresponding record\n",
    "            gipps_data_frame['geology'][j] = all_records[i][5]  # get the geology field of the corresponding record\n",
    "#             print(\"The point is \", gipps_data_frame['soil_type']) \n",
    "#             print(\"The landform is \",gipps_data_frame ['landform'])\n",
    "#             print(\"The geology is\", gipps_data_frame['geology'])\n",
    "            break\n",
    "   "
   ]
  },
  {
   "cell_type": "code",
   "execution_count": 27,
   "metadata": {},
   "outputs": [],
   "source": [
    "#Replacing null values with 'Not Available'\n",
    "gipps_data_frame.loc[gipps_data_frame[\"soil_type\"] == '','soil_type'] = \"Not Available\"\n",
    "gipps_data_frame.loc[gipps_data_frame[\"landform\"] == '','landform'] = \"Not Available\"\n",
    "gipps_data_frame.loc[gipps_data_frame[\"geology\"] == '','geology'] = \"Not Available\"\n"
   ]
  },
  {
   "cell_type": "code",
   "execution_count": 28,
   "metadata": {},
   "outputs": [
    {
     "data": {
      "text/plain": [
       "179"
      ]
     },
     "execution_count": 28,
     "metadata": {},
     "output_type": "execute_result"
    }
   ],
   "source": [
    "len(gipps_data_frame)"
   ]
  },
  {
   "cell_type": "code",
   "execution_count": 29,
   "metadata": {},
   "outputs": [],
   "source": [
    "# gipps_data_frame.loc[gipps_data_frame.geology == 'Not Available', 'soil_type'].count()"
   ]
  },
  {
   "cell_type": "code",
   "execution_count": 30,
   "metadata": {},
   "outputs": [],
   "source": [
    "# gipps_data_frame[gipps_data_frame['soil_type'] == ''].drop_duplicates()\n"
   ]
  },
  {
   "cell_type": "markdown",
   "metadata": {},
   "source": [
    "### Adding another API for rain forecast:"
   ]
  },
  {
   "cell_type": "code",
   "execution_count": 31,
   "metadata": {},
   "outputs": [],
   "source": [
    "#Adding new columns for rain forecast datas\n",
    "\n",
    "gipps_data_frame['rain_day 0'] = ['0.0' for i in gipps_data_frame['Suburbs']]\n",
    "gipps_data_frame['rain_day 1'] = ['0.0' for i in gipps_data_frame['Suburbs']]\n",
    "gipps_data_frame['rain_day 2'] = ['0.0' for i in gipps_data_frame['Suburbs']]\n",
    "gipps_data_frame['rain_day 3'] = ['0.0' for i in gipps_data_frame['Suburbs']]\n",
    "gipps_data_frame['rain_day 4'] = ['0.0' for i in gipps_data_frame['Suburbs']]\n",
    "gipps_data_frame['rain_day 5'] = ['0.0' for i in gipps_data_frame['Suburbs']]\n",
    "gipps_data_frame['rain_day 6'] = ['0.0' for i in gipps_data_frame['Suburbs']]\n",
    "gipps_data_frame['rain_day 7'] = ['0.0' for i in gipps_data_frame['Suburbs']]\n"
   ]
  },
  {
   "cell_type": "code",
   "execution_count": 32,
   "metadata": {},
   "outputs": [
    {
     "data": {
      "text/html": [
       "<div>\n",
       "<style scoped>\n",
       "    .dataframe tbody tr th:only-of-type {\n",
       "        vertical-align: middle;\n",
       "    }\n",
       "\n",
       "    .dataframe tbody tr th {\n",
       "        vertical-align: top;\n",
       "    }\n",
       "\n",
       "    .dataframe thead th {\n",
       "        text-align: right;\n",
       "    }\n",
       "</style>\n",
       "<table border=\"1\" class=\"dataframe\">\n",
       "  <thead>\n",
       "    <tr style=\"text-align: right;\">\n",
       "      <th></th>\n",
       "      <th>Suburbs</th>\n",
       "      <th>Post Code</th>\n",
       "      <th>Latitude</th>\n",
       "      <th>Longitude</th>\n",
       "      <th>Temperature</th>\n",
       "      <th>Description</th>\n",
       "      <th>Wind</th>\n",
       "      <th>soil_type</th>\n",
       "      <th>landform</th>\n",
       "      <th>geology</th>\n",
       "      <th>rain_day 0</th>\n",
       "      <th>rain_day 1</th>\n",
       "      <th>rain_day 2</th>\n",
       "      <th>rain_day 3</th>\n",
       "      <th>rain_day 4</th>\n",
       "      <th>rain_day 5</th>\n",
       "      <th>rain_day 6</th>\n",
       "      <th>rain_day 7</th>\n",
       "    </tr>\n",
       "  </thead>\n",
       "  <tbody>\n",
       "    <tr>\n",
       "      <th>0</th>\n",
       "      <td>Aberfeldy</td>\n",
       "      <td>3825</td>\n",
       "      <td>-37.95</td>\n",
       "      <td>146.40</td>\n",
       "      <td>276.19</td>\n",
       "      <td>clear sky</td>\n",
       "      <td>1.32</td>\n",
       "      <td>Not Available</td>\n",
       "      <td>Not Available</td>\n",
       "      <td>Not Available</td>\n",
       "      <td>0.0</td>\n",
       "      <td>0.0</td>\n",
       "      <td>0.0</td>\n",
       "      <td>0.0</td>\n",
       "      <td>0.0</td>\n",
       "      <td>0.0</td>\n",
       "      <td>0.0</td>\n",
       "      <td>0.0</td>\n",
       "    </tr>\n",
       "    <tr>\n",
       "      <th>1</th>\n",
       "      <td>Agnes</td>\n",
       "      <td>3962</td>\n",
       "      <td>-38.56</td>\n",
       "      <td>146.39</td>\n",
       "      <td>277.07</td>\n",
       "      <td>broken clouds</td>\n",
       "      <td>1.13</td>\n",
       "      <td>Strzelecki</td>\n",
       "      <td>Cretaceous sediments</td>\n",
       "      <td>Acidic Grey, Yellow and Brown Dermosols</td>\n",
       "      <td>0.0</td>\n",
       "      <td>0.0</td>\n",
       "      <td>0.0</td>\n",
       "      <td>0.0</td>\n",
       "      <td>0.0</td>\n",
       "      <td>0.0</td>\n",
       "      <td>0.0</td>\n",
       "      <td>0.0</td>\n",
       "    </tr>\n",
       "    <tr>\n",
       "      <th>2</th>\n",
       "      <td>Allambee</td>\n",
       "      <td>3823</td>\n",
       "      <td>-38.21</td>\n",
       "      <td>146.06</td>\n",
       "      <td>277.30</td>\n",
       "      <td>few clouds</td>\n",
       "      <td>0.65</td>\n",
       "      <td>Yarragon</td>\n",
       "      <td>Pleistocene (late) sediments</td>\n",
       "      <td>Not Available</td>\n",
       "      <td>0.0</td>\n",
       "      <td>0.0</td>\n",
       "      <td>0.0</td>\n",
       "      <td>0.0</td>\n",
       "      <td>0.0</td>\n",
       "      <td>0.0</td>\n",
       "      <td>0.0</td>\n",
       "      <td>0.0</td>\n",
       "    </tr>\n",
       "    <tr>\n",
       "      <th>3</th>\n",
       "      <td>Almurta</td>\n",
       "      <td>3979</td>\n",
       "      <td>-38.52</td>\n",
       "      <td>145.70</td>\n",
       "      <td>277.95</td>\n",
       "      <td>scattered clouds</td>\n",
       "      <td>1.80</td>\n",
       "      <td>Strzelecki</td>\n",
       "      <td>Cretaceous sediments</td>\n",
       "      <td>Acidic Grey, Yellow and Brown Dermosols</td>\n",
       "      <td>0.0</td>\n",
       "      <td>0.0</td>\n",
       "      <td>0.0</td>\n",
       "      <td>0.0</td>\n",
       "      <td>0.0</td>\n",
       "      <td>0.0</td>\n",
       "      <td>0.0</td>\n",
       "      <td>0.0</td>\n",
       "    </tr>\n",
       "    <tr>\n",
       "      <th>4</th>\n",
       "      <td>Anderson</td>\n",
       "      <td>3995</td>\n",
       "      <td>-38.57</td>\n",
       "      <td>145.70</td>\n",
       "      <td>278.01</td>\n",
       "      <td>scattered clouds</td>\n",
       "      <td>2.09</td>\n",
       "      <td>Leongatha Sth</td>\n",
       "      <td>Tertiary sediments</td>\n",
       "      <td>Not Available</td>\n",
       "      <td>0.0</td>\n",
       "      <td>0.0</td>\n",
       "      <td>0.0</td>\n",
       "      <td>0.0</td>\n",
       "      <td>0.0</td>\n",
       "      <td>0.0</td>\n",
       "      <td>0.0</td>\n",
       "      <td>0.0</td>\n",
       "    </tr>\n",
       "  </tbody>\n",
       "</table>\n",
       "</div>"
      ],
      "text/plain": [
       "     Suburbs Post Code  Latitude  Longitude  Temperature       Description  \\\n",
       "0  Aberfeldy      3825    -37.95     146.40       276.19         clear sky   \n",
       "1      Agnes      3962    -38.56     146.39       277.07     broken clouds   \n",
       "2   Allambee      3823    -38.21     146.06       277.30        few clouds   \n",
       "3    Almurta      3979    -38.52     145.70       277.95  scattered clouds   \n",
       "4   Anderson      3995    -38.57     145.70       278.01  scattered clouds   \n",
       "\n",
       "   Wind      soil_type                      landform  \\\n",
       "0  1.32  Not Available                 Not Available   \n",
       "1  1.13     Strzelecki          Cretaceous sediments   \n",
       "2  0.65       Yarragon  Pleistocene (late) sediments   \n",
       "3  1.80     Strzelecki          Cretaceous sediments   \n",
       "4  2.09  Leongatha Sth            Tertiary sediments   \n",
       "\n",
       "                                   geology rain_day 0 rain_day 1 rain_day 2  \\\n",
       "0                            Not Available        0.0        0.0        0.0   \n",
       "1  Acidic Grey, Yellow and Brown Dermosols        0.0        0.0        0.0   \n",
       "2                            Not Available        0.0        0.0        0.0   \n",
       "3  Acidic Grey, Yellow and Brown Dermosols        0.0        0.0        0.0   \n",
       "4                            Not Available        0.0        0.0        0.0   \n",
       "\n",
       "  rain_day 3 rain_day 4 rain_day 5 rain_day 6 rain_day 7  \n",
       "0        0.0        0.0        0.0        0.0        0.0  \n",
       "1        0.0        0.0        0.0        0.0        0.0  \n",
       "2        0.0        0.0        0.0        0.0        0.0  \n",
       "3        0.0        0.0        0.0        0.0        0.0  \n",
       "4        0.0        0.0        0.0        0.0        0.0  "
      ]
     },
     "execution_count": 32,
     "metadata": {},
     "output_type": "execute_result"
    }
   ],
   "source": [
    "gipps_data_frame.head()"
   ]
  },
  {
   "cell_type": "code",
   "execution_count": 33,
   "metadata": {},
   "outputs": [
    {
     "name": "stderr",
     "output_type": "stream",
     "text": [
      "<ipython-input-33-4886e006f573>:21: SettingWithCopyWarning: \n",
      "A value is trying to be set on a copy of a slice from a DataFrame\n",
      "\n",
      "See the caveats in the documentation: https://pandas.pydata.org/pandas-docs/stable/user_guide/indexing.html#returning-a-view-versus-a-copy\n",
      "  gipps_data_frame['rain_day '+str(ix)][i] = 0.0\n",
      "<ipython-input-33-4886e006f573>:15: SettingWithCopyWarning: \n",
      "A value is trying to be set on a copy of a slice from a DataFrame\n",
      "\n",
      "See the caveats in the documentation: https://pandas.pydata.org/pandas-docs/stable/user_guide/indexing.html#returning-a-view-versus-a-copy\n",
      "  gipps_data_frame['rain_day '+str(ix)][i] = daily_data['rain']\n"
     ]
    }
   ],
   "source": [
    "#Storing values of rain forecast for 7 days collected from API into the respective columns\n",
    "vals = []\n",
    "dates = []\n",
    "for i in range(len(gipps_data_frame)):\n",
    "    url = \"https://api.openweathermap.org/data/2.5/onecall?lat={lat}&lon={lon}&appid=79ab7afe9488e5e8236e3054f20c6947\".format(lat=str(gipps_data_frame['Latitude'][i]), lon=str(gipps_data_frame['Longitude'][i]))\n",
    "#     print(url)\n",
    "    res = requests.get(url)\n",
    "    data = res.json() \n",
    "    for ix, daily_data in enumerate(data['daily']):\n",
    "    #     print(daily_data)\n",
    "        if 'rain' in daily_data.keys():\n",
    "#             print(daily_data['dt'], daily_data['rain'] , 'mm')\n",
    "            vals.append(float(daily_data['rain']))\n",
    "            dates.append(daily_data['dt'])\n",
    "            gipps_data_frame['rain_day '+str(ix)][i] = daily_data['rain']\n",
    "        else:\n",
    "#             print(daily_data['dt'], 'No rain')\n",
    "            vals.append(0.0)\n",
    "            dates.append(daily_data['dt'])\n",
    "        \n",
    "            gipps_data_frame['rain_day '+str(ix)][i] = 0.0"
   ]
  },
  {
   "cell_type": "markdown",
   "metadata": {},
   "source": [
    "### Final dataframe "
   ]
  },
  {
   "cell_type": "code",
   "execution_count": 34,
   "metadata": {},
   "outputs": [
    {
     "data": {
      "text/html": [
       "<div>\n",
       "<style scoped>\n",
       "    .dataframe tbody tr th:only-of-type {\n",
       "        vertical-align: middle;\n",
       "    }\n",
       "\n",
       "    .dataframe tbody tr th {\n",
       "        vertical-align: top;\n",
       "    }\n",
       "\n",
       "    .dataframe thead th {\n",
       "        text-align: right;\n",
       "    }\n",
       "</style>\n",
       "<table border=\"1\" class=\"dataframe\">\n",
       "  <thead>\n",
       "    <tr style=\"text-align: right;\">\n",
       "      <th></th>\n",
       "      <th>Suburbs</th>\n",
       "      <th>Post Code</th>\n",
       "      <th>Latitude</th>\n",
       "      <th>Longitude</th>\n",
       "      <th>Temperature</th>\n",
       "      <th>Description</th>\n",
       "      <th>Wind</th>\n",
       "      <th>soil_type</th>\n",
       "      <th>landform</th>\n",
       "      <th>geology</th>\n",
       "      <th>rain_day 0</th>\n",
       "      <th>rain_day 1</th>\n",
       "      <th>rain_day 2</th>\n",
       "      <th>rain_day 3</th>\n",
       "      <th>rain_day 4</th>\n",
       "      <th>rain_day 5</th>\n",
       "      <th>rain_day 6</th>\n",
       "      <th>rain_day 7</th>\n",
       "    </tr>\n",
       "  </thead>\n",
       "  <tbody>\n",
       "    <tr>\n",
       "      <th>0</th>\n",
       "      <td>Aberfeldy</td>\n",
       "      <td>3825</td>\n",
       "      <td>-37.95</td>\n",
       "      <td>146.40</td>\n",
       "      <td>276.19</td>\n",
       "      <td>clear sky</td>\n",
       "      <td>1.32</td>\n",
       "      <td>Not Available</td>\n",
       "      <td>Not Available</td>\n",
       "      <td>Not Available</td>\n",
       "      <td>0</td>\n",
       "      <td>0.14</td>\n",
       "      <td>0.37</td>\n",
       "      <td>0.14</td>\n",
       "      <td>0</td>\n",
       "      <td>0</td>\n",
       "      <td>0</td>\n",
       "      <td>0.97</td>\n",
       "    </tr>\n",
       "    <tr>\n",
       "      <th>1</th>\n",
       "      <td>Agnes</td>\n",
       "      <td>3962</td>\n",
       "      <td>-38.56</td>\n",
       "      <td>146.39</td>\n",
       "      <td>277.07</td>\n",
       "      <td>broken clouds</td>\n",
       "      <td>1.13</td>\n",
       "      <td>Strzelecki</td>\n",
       "      <td>Cretaceous sediments</td>\n",
       "      <td>Acidic Grey, Yellow and Brown Dermosols</td>\n",
       "      <td>0</td>\n",
       "      <td>1.16</td>\n",
       "      <td>0.78</td>\n",
       "      <td>0.1</td>\n",
       "      <td>0</td>\n",
       "      <td>0</td>\n",
       "      <td>0</td>\n",
       "      <td>0.58</td>\n",
       "    </tr>\n",
       "    <tr>\n",
       "      <th>2</th>\n",
       "      <td>Allambee</td>\n",
       "      <td>3823</td>\n",
       "      <td>-38.21</td>\n",
       "      <td>146.06</td>\n",
       "      <td>277.30</td>\n",
       "      <td>few clouds</td>\n",
       "      <td>0.65</td>\n",
       "      <td>Yarragon</td>\n",
       "      <td>Pleistocene (late) sediments</td>\n",
       "      <td>Not Available</td>\n",
       "      <td>0</td>\n",
       "      <td>0.95</td>\n",
       "      <td>1.17</td>\n",
       "      <td>0</td>\n",
       "      <td>0</td>\n",
       "      <td>0</td>\n",
       "      <td>0</td>\n",
       "      <td>1.03</td>\n",
       "    </tr>\n",
       "    <tr>\n",
       "      <th>3</th>\n",
       "      <td>Almurta</td>\n",
       "      <td>3979</td>\n",
       "      <td>-38.52</td>\n",
       "      <td>145.70</td>\n",
       "      <td>277.95</td>\n",
       "      <td>scattered clouds</td>\n",
       "      <td>1.80</td>\n",
       "      <td>Strzelecki</td>\n",
       "      <td>Cretaceous sediments</td>\n",
       "      <td>Acidic Grey, Yellow and Brown Dermosols</td>\n",
       "      <td>0</td>\n",
       "      <td>4.91</td>\n",
       "      <td>2.06</td>\n",
       "      <td>0.34</td>\n",
       "      <td>0</td>\n",
       "      <td>0</td>\n",
       "      <td>0</td>\n",
       "      <td>0.22</td>\n",
       "    </tr>\n",
       "    <tr>\n",
       "      <th>4</th>\n",
       "      <td>Anderson</td>\n",
       "      <td>3995</td>\n",
       "      <td>-38.57</td>\n",
       "      <td>145.70</td>\n",
       "      <td>278.01</td>\n",
       "      <td>scattered clouds</td>\n",
       "      <td>2.09</td>\n",
       "      <td>Leongatha Sth</td>\n",
       "      <td>Tertiary sediments</td>\n",
       "      <td>Not Available</td>\n",
       "      <td>0</td>\n",
       "      <td>4.85</td>\n",
       "      <td>1.96</td>\n",
       "      <td>0.29</td>\n",
       "      <td>0</td>\n",
       "      <td>0</td>\n",
       "      <td>0</td>\n",
       "      <td>0.32</td>\n",
       "    </tr>\n",
       "  </tbody>\n",
       "</table>\n",
       "</div>"
      ],
      "text/plain": [
       "     Suburbs Post Code  Latitude  Longitude  Temperature       Description  \\\n",
       "0  Aberfeldy      3825    -37.95     146.40       276.19         clear sky   \n",
       "1      Agnes      3962    -38.56     146.39       277.07     broken clouds   \n",
       "2   Allambee      3823    -38.21     146.06       277.30        few clouds   \n",
       "3    Almurta      3979    -38.52     145.70       277.95  scattered clouds   \n",
       "4   Anderson      3995    -38.57     145.70       278.01  scattered clouds   \n",
       "\n",
       "   Wind      soil_type                      landform  \\\n",
       "0  1.32  Not Available                 Not Available   \n",
       "1  1.13     Strzelecki          Cretaceous sediments   \n",
       "2  0.65       Yarragon  Pleistocene (late) sediments   \n",
       "3  1.80     Strzelecki          Cretaceous sediments   \n",
       "4  2.09  Leongatha Sth            Tertiary sediments   \n",
       "\n",
       "                                   geology rain_day 0 rain_day 1 rain_day 2  \\\n",
       "0                            Not Available          0       0.14       0.37   \n",
       "1  Acidic Grey, Yellow and Brown Dermosols          0       1.16       0.78   \n",
       "2                            Not Available          0       0.95       1.17   \n",
       "3  Acidic Grey, Yellow and Brown Dermosols          0       4.91       2.06   \n",
       "4                            Not Available          0       4.85       1.96   \n",
       "\n",
       "  rain_day 3 rain_day 4 rain_day 5 rain_day 6 rain_day 7  \n",
       "0       0.14          0          0          0       0.97  \n",
       "1        0.1          0          0          0       0.58  \n",
       "2          0          0          0          0       1.03  \n",
       "3       0.34          0          0          0       0.22  \n",
       "4       0.29          0          0          0       0.32  "
      ]
     },
     "execution_count": 34,
     "metadata": {},
     "output_type": "execute_result"
    }
   ],
   "source": [
    "gipps_data_frame.head()"
   ]
  },
  {
   "cell_type": "code",
   "execution_count": 35,
   "metadata": {},
   "outputs": [
    {
     "data": {
      "text/html": [
       "<div>\n",
       "<style scoped>\n",
       "    .dataframe tbody tr th:only-of-type {\n",
       "        vertical-align: middle;\n",
       "    }\n",
       "\n",
       "    .dataframe tbody tr th {\n",
       "        vertical-align: top;\n",
       "    }\n",
       "\n",
       "    .dataframe thead th {\n",
       "        text-align: right;\n",
       "    }\n",
       "</style>\n",
       "<table border=\"1\" class=\"dataframe\">\n",
       "  <thead>\n",
       "    <tr style=\"text-align: right;\">\n",
       "      <th></th>\n",
       "      <th>Suburbs</th>\n",
       "      <th>Post Code</th>\n",
       "      <th>Latitude</th>\n",
       "      <th>Longitude</th>\n",
       "      <th>Temperature</th>\n",
       "      <th>Description</th>\n",
       "      <th>Wind</th>\n",
       "      <th>soil_type</th>\n",
       "      <th>landform</th>\n",
       "      <th>geology</th>\n",
       "      <th>rain_day 0</th>\n",
       "      <th>rain_day 1</th>\n",
       "      <th>rain_day 2</th>\n",
       "      <th>rain_day 3</th>\n",
       "      <th>rain_day 4</th>\n",
       "      <th>rain_day 5</th>\n",
       "      <th>rain_day 6</th>\n",
       "      <th>rain_day 7</th>\n",
       "    </tr>\n",
       "  </thead>\n",
       "  <tbody>\n",
       "    <tr>\n",
       "      <th>174</th>\n",
       "      <td>Yallourn North</td>\n",
       "      <td>3825</td>\n",
       "      <td>-37.95</td>\n",
       "      <td>146.40</td>\n",
       "      <td>276.19</td>\n",
       "      <td>clear sky</td>\n",
       "      <td>1.32</td>\n",
       "      <td>Not Available</td>\n",
       "      <td>Not Available</td>\n",
       "      <td>Not Available</td>\n",
       "      <td>0</td>\n",
       "      <td>0.14</td>\n",
       "      <td>0.37</td>\n",
       "      <td>0.14</td>\n",
       "      <td>0</td>\n",
       "      <td>0</td>\n",
       "      <td>0</td>\n",
       "      <td>0.97</td>\n",
       "    </tr>\n",
       "    <tr>\n",
       "      <th>175</th>\n",
       "      <td>Yanakie</td>\n",
       "      <td>3960</td>\n",
       "      <td>-38.56</td>\n",
       "      <td>146.16</td>\n",
       "      <td>277.17</td>\n",
       "      <td>overcast clouds</td>\n",
       "      <td>1.06</td>\n",
       "      <td>Strzelecki</td>\n",
       "      <td>Cretaceous sediments</td>\n",
       "      <td>Acidic Grey, Yellow and Brown Dermosols</td>\n",
       "      <td>0</td>\n",
       "      <td>2.59</td>\n",
       "      <td>1.58</td>\n",
       "      <td>0.28</td>\n",
       "      <td>0</td>\n",
       "      <td>0</td>\n",
       "      <td>0</td>\n",
       "      <td>0.37</td>\n",
       "    </tr>\n",
       "    <tr>\n",
       "      <th>176</th>\n",
       "      <td>Yarragon</td>\n",
       "      <td>3823</td>\n",
       "      <td>-38.21</td>\n",
       "      <td>146.06</td>\n",
       "      <td>277.30</td>\n",
       "      <td>few clouds</td>\n",
       "      <td>0.65</td>\n",
       "      <td>Yarragon</td>\n",
       "      <td>Pleistocene (late) sediments</td>\n",
       "      <td>Not Available</td>\n",
       "      <td>0</td>\n",
       "      <td>0.95</td>\n",
       "      <td>1.17</td>\n",
       "      <td>0</td>\n",
       "      <td>0</td>\n",
       "      <td>0</td>\n",
       "      <td>0</td>\n",
       "      <td>1.03</td>\n",
       "    </tr>\n",
       "    <tr>\n",
       "      <th>177</th>\n",
       "      <td>Yinnar</td>\n",
       "      <td>3869</td>\n",
       "      <td>-38.38</td>\n",
       "      <td>146.38</td>\n",
       "      <td>274.82</td>\n",
       "      <td>broken clouds</td>\n",
       "      <td>0.51</td>\n",
       "      <td>Boolarra with Morwell</td>\n",
       "      <td>Tertiary (Pliocene) sediments</td>\n",
       "      <td>Acidic Yellow and Grey Dermosols &amp; Kurosols/Ac...</td>\n",
       "      <td>0</td>\n",
       "      <td>0.65</td>\n",
       "      <td>0.68</td>\n",
       "      <td>0</td>\n",
       "      <td>0</td>\n",
       "      <td>0</td>\n",
       "      <td>0</td>\n",
       "      <td>0.85</td>\n",
       "    </tr>\n",
       "    <tr>\n",
       "      <th>178</th>\n",
       "      <td>Yinnar South</td>\n",
       "      <td>3869</td>\n",
       "      <td>-38.38</td>\n",
       "      <td>146.38</td>\n",
       "      <td>274.82</td>\n",
       "      <td>broken clouds</td>\n",
       "      <td>0.51</td>\n",
       "      <td>Boolarra with Morwell</td>\n",
       "      <td>Tertiary (Pliocene) sediments</td>\n",
       "      <td>Acidic Yellow and Grey Dermosols &amp; Kurosols/Ac...</td>\n",
       "      <td>0</td>\n",
       "      <td>0.65</td>\n",
       "      <td>0.68</td>\n",
       "      <td>0</td>\n",
       "      <td>0</td>\n",
       "      <td>0</td>\n",
       "      <td>0</td>\n",
       "      <td>0.85</td>\n",
       "    </tr>\n",
       "  </tbody>\n",
       "</table>\n",
       "</div>"
      ],
      "text/plain": [
       "            Suburbs Post Code  Latitude  Longitude  Temperature  \\\n",
       "174  Yallourn North      3825    -37.95     146.40       276.19   \n",
       "175         Yanakie      3960    -38.56     146.16       277.17   \n",
       "176        Yarragon      3823    -38.21     146.06       277.30   \n",
       "177          Yinnar      3869    -38.38     146.38       274.82   \n",
       "178    Yinnar South      3869    -38.38     146.38       274.82   \n",
       "\n",
       "         Description  Wind              soil_type  \\\n",
       "174        clear sky  1.32          Not Available   \n",
       "175  overcast clouds  1.06             Strzelecki   \n",
       "176       few clouds  0.65               Yarragon   \n",
       "177    broken clouds  0.51  Boolarra with Morwell   \n",
       "178    broken clouds  0.51  Boolarra with Morwell   \n",
       "\n",
       "                          landform  \\\n",
       "174                  Not Available   \n",
       "175           Cretaceous sediments   \n",
       "176   Pleistocene (late) sediments   \n",
       "177  Tertiary (Pliocene) sediments   \n",
       "178  Tertiary (Pliocene) sediments   \n",
       "\n",
       "                                               geology rain_day 0 rain_day 1  \\\n",
       "174                                      Not Available          0       0.14   \n",
       "175            Acidic Grey, Yellow and Brown Dermosols          0       2.59   \n",
       "176                                      Not Available          0       0.95   \n",
       "177  Acidic Yellow and Grey Dermosols & Kurosols/Ac...          0       0.65   \n",
       "178  Acidic Yellow and Grey Dermosols & Kurosols/Ac...          0       0.65   \n",
       "\n",
       "    rain_day 2 rain_day 3 rain_day 4 rain_day 5 rain_day 6 rain_day 7  \n",
       "174       0.37       0.14          0          0          0       0.97  \n",
       "175       1.58       0.28          0          0          0       0.37  \n",
       "176       1.17          0          0          0          0       1.03  \n",
       "177       0.68          0          0          0          0       0.85  \n",
       "178       0.68          0          0          0          0       0.85  "
      ]
     },
     "execution_count": 35,
     "metadata": {},
     "output_type": "execute_result"
    }
   ],
   "source": [
    "gipps_data_frame.tail()"
   ]
  },
  {
   "cell_type": "markdown",
   "metadata": {},
   "source": [
    "### Writing into csv file"
   ]
  },
  {
   "cell_type": "code",
   "execution_count": 36,
   "metadata": {},
   "outputs": [],
   "source": [
    "# Write the final dataframe into a csv file\n",
    "gipps_data_frame.to_csv(\"weather_gippsland.csv\")"
   ]
  }
 ],
 "metadata": {
  "kernelspec": {
   "display_name": "Python 3",
   "language": "python",
   "name": "python3"
  },
  "language_info": {
   "codemirror_mode": {
    "name": "ipython",
    "version": 3
   },
   "file_extension": ".py",
   "mimetype": "text/x-python",
   "name": "python",
   "nbconvert_exporter": "python",
   "pygments_lexer": "ipython3",
   "version": "3.8.3"
  }
 },
 "nbformat": 4,
 "nbformat_minor": 4
}
