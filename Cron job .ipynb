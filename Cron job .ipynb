{
 "cells": [
  {
   "cell_type": "markdown",
   "metadata": {},
   "source": [
    "# -----------------------------------------------------------------------------------------------\n",
    "CRON job that executes this below python file at 12AM everyday "
   ]
  },
  {
   "cell_type": "code",
   "execution_count": null,
   "metadata": {},
   "outputs": [],
   "source": [
    "import pandas as pd\n",
    "\n",
    "import requests\n",
    "\n",
    "df = pd.read_csv(\"weather_gippsland.csv\")\n",
    "\n",
    "for i in range(len(df)):\n",
    "    url = \"http://api.openweathermap.org/data/2.5/weather?zip={}&appid=79ab7afe9488e5e8236e3054f20c6947\".format(str(df['Post Code'][i])+\",au\")\n",
    "    res = requests.get(url)\n",
    "    data = res.json()\n",
    "\n",
    "\n",
    "    df['Temperature'][i] = data['main']['temp']\n",
    "    df['Wind'][i] = data['wind']['speed']\n",
    "        \n",
    "    weather_access = data['weather']\n",
    "    for weather_data in weather_access:\n",
    "        desc = weather_data['description']\n",
    "        df['Wind'][i] = desc\n",
    "\n",
    "df.to_csv('weather_gippsland.csv',index=False)"
   ]
  }
 ],
 "metadata": {
  "kernelspec": {
   "display_name": "Python 3",
   "language": "python",
   "name": "python3"
  },
  "language_info": {
   "codemirror_mode": {
    "name": "ipython",
    "version": 3
   },
   "file_extension": ".py",
   "mimetype": "text/x-python",
   "name": "python",
   "nbconvert_exporter": "python",
   "pygments_lexer": "ipython3",
   "version": "3.8.3"
  }
 },
 "nbformat": 4,
 "nbformat_minor": 4
}
